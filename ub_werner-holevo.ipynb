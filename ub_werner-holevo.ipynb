{
 "cells": [
  {
   "cell_type": "code",
   "execution_count": 13,
   "id": "b952dc45",
   "metadata": {},
   "outputs": [],
   "source": [
    "using JuMP\n",
    "using HiGHS"
   ]
  },
  {
   "cell_type": "code",
   "execution_count": 60,
   "id": "eb6bbe0c",
   "metadata": {},
   "outputs": [
    {
     "data": {
      "text/plain": [
       "ub_werner_holevo_linprog (generic function with 1 method)"
      ]
     },
     "execution_count": 60,
     "metadata": {},
     "output_type": "execute_result"
    }
   ],
   "source": [
    "function ub_werner_holevo_linprog(d,p)\n",
    "    \n",
    "    model = Model(HiGHS.Optimizer)\n",
    "\n",
    "    ## Define the variables ##\n",
    "    @variable(model, r1>=0)\n",
    "    @variable(model, r2)\n",
    "    @variable(model, r3>=0)\n",
    "    @variable(model, r4)\n",
    "    @variable(model, m)\n",
    "\n",
    "    ## Define the constraints ##\n",
    "    @constraint(model, m >= d*r1+r2+d*r3+r4)\n",
    "    @constraint(model, r1+r4-r2-r3-p/d+1-p >= 0)\n",
    "    @constraint(model, r1+r2-r3-r4+p-p/d-1 >= 0)\n",
    "    @constraint(model, r1 + d*r2 >= 0)\n",
    "    @constraint(model, r3 + d*r4 >= 0)\n",
    "\n",
    "    ## Define the objective function ##\n",
    "    @objective(model, Min, m)\n",
    "\n",
    "    ## Run the optimization ##\n",
    "    optimize!(model)\n",
    "\n",
    "    res = objective_value(model)\n",
    "    \n",
    "    return res,value(r1),value(r2),value(r3),value(r4)\n",
    "end"
   ]
  },
  {
   "cell_type": "code",
   "execution_count": 61,
   "id": "4a3d6650",
   "metadata": {},
   "outputs": [
    {
     "name": "stdout",
     "output_type": "stream",
     "text": [
      "Presolving model\n",
      "4 rows, 4 cols, 12 nonzeros\n",
      "4 rows, 4 cols, 12 nonzeros\n",
      "Presolve : Reductions: rows 4(-1); columns 4(-1); elements 12(-5)\n",
      "Solving the presolved LP\n",
      "Using EKK dual simplex solver - serial\n",
      "  Iteration        Objective     Infeasibilities num(sum)\n",
      "          0    -2.0000000000e+03 Ph1: 2(4000); Du: 2(2) 0s\n",
      "          4     2.0000000000e+00 Pr: 0(0) 0s\n",
      "Solving the original LP from the solution after postsolve\n",
      "Model   status      : Optimal\n",
      "Simplex   iterations: 4\n",
      "Objective value     :  2.0000000000e+00\n",
      "HiGHS run time      :          0.00\n"
     ]
    },
    {
     "data": {
      "text/plain": [
       "(2.0, 1.0, -0.5, 0.0, 0.5)"
      ]
     },
     "execution_count": 61,
     "metadata": {},
     "output_type": "execute_result"
    }
   ],
   "source": [
    "d = 2\n",
    "\n",
    "p = d/(d-1)\n",
    "\n",
    "ub_werner_holevo_linprog(d,p)"
   ]
  },
  {
   "cell_type": "markdown",
   "id": "85a2c32f",
   "metadata": {},
   "source": [
    "Let $p = \\frac{d}{d-1}$\n",
    "\n",
    "By experimentation with ub_werner_holevo_linprog and some additional math, we find that $r_1 = \\frac{1}{d-1}$, $r_2 = \\frac{-1}{d(d-1)}$, $r_3 = 0$, $r_4 = \\frac{1}{d}$, and $\\mu = \\frac{d^2+d-2}{d(d-1)}$. Note that $\\log(\\mu) \\rightarrow 0$ as d $\\rightarrow \\infty$.\n",
    "\n",
    "Because the upper bound of solution to the LP (the solution is also an upper bound, one of the quantum capacity of the Werner-Holevo channel) falls to 0 for d $\\rightarrow \\infty$ and $p = \\frac{d}{d-1}$, the quantum capacity of the Werner-Holevo channel is 0 for d $\\rightarrow \\infty$ and $p = \\frac{d}{d-1}$."
   ]
  },
  {
   "cell_type": "markdown",
   "id": "d62eaaff",
   "metadata": {},
   "source": [
    "Now, let's determine $r_1,r_2,r_3,r_4$ for $p \\in [d/(d+1),d/(d-1)]$"
   ]
  },
  {
   "cell_type": "code",
   "execution_count": 62,
   "id": "a6771542",
   "metadata": {},
   "outputs": [
    {
     "name": "stdout",
     "output_type": "stream",
     "text": [
      "Presolving model\n",
      "4 rows, 4 cols, 12 nonzeros\n",
      "4 rows, 4 cols, 12 nonzeros\n",
      "Presolve : Reductions: rows 4(-1); columns 4(-1); elements 12(-5)\n",
      "Solving the presolved LP\n",
      "Using EKK dual simplex solver - serial\n",
      "  Iteration        Objective     Infeasibilities num(sum)\n",
      "          0    -2.0000000000e+03 Ph1: 2(4000); Du: 2(2) 0s\n",
      "          4     1.0000000000e+00 Pr: 0(0) 0s\n",
      "Solving the original LP from the solution after postsolve\n",
      "Model   status      : Optimal\n",
      "Simplex   iterations: 4\n",
      "Objective value     :  1.0000000000e+00\n",
      "HiGHS run time      :          0.00\n"
     ]
    },
    {
     "data": {
      "text/plain": [
       "(1.0, 0.33333333333333337, 0.33333333333333337, 0.0, -0.0)"
      ]
     },
     "execution_count": 62,
     "metadata": {},
     "output_type": "execute_result"
    }
   ],
   "source": [
    "d = 2\n",
    "\n",
    "p = d/(d+1)\n",
    "\n",
    "res,r1,r2,r3,r4 = ub_werner_holevo_linprog(d,p)"
   ]
  },
  {
   "cell_type": "markdown",
   "id": "950a75cc",
   "metadata": {},
   "source": [
    "Let $p = \\frac{d}{d+1}$\n",
    "\n",
    "We find that $r_1 = \\frac{1}{d+1}$, $r_2 = \\frac{1}{d+1}$, $r_3 = 0$, $r_4 = 0$, and $\\mu = 0$."
   ]
  },
  {
   "cell_type": "code",
   "execution_count": null,
   "id": "c3c88c17",
   "metadata": {},
   "outputs": [],
   "source": []
  }
 ],
 "metadata": {
  "kernelspec": {
   "display_name": "Julia 1.7.3",
   "language": "julia",
   "name": "julia-1.7"
  },
  "language_info": {
   "file_extension": ".jl",
   "mimetype": "application/julia",
   "name": "julia",
   "version": "1.7.3"
  }
 },
 "nbformat": 4,
 "nbformat_minor": 5
}
