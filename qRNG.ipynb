{
 "cells": [
  {
   "cell_type": "code",
   "execution_count": 1,
   "id": "b8a97195-8599-47ea-b9ae-529d2becb56e",
   "metadata": {},
   "outputs": [],
   "source": [
    "import qiskit\n",
    "from qiskit import IBMQ\n",
    "import math"
   ]
  },
  {
   "cell_type": "code",
   "execution_count": 4,
   "id": "5ecb156c-8542-4db9-a66c-9369a3226467",
   "metadata": {},
   "outputs": [],
   "source": [
    "_bitCache = ''"
   ]
  },
  {
   "cell_type": "code",
   "execution_count": 5,
   "id": "2888b9f7-8a19-4082-ac26-88cd888750cd",
   "metadata": {},
   "outputs": [],
   "source": [
    "def set_provider(token = ''):\n",
    "    global provider\n",
    "    if token != '':\n",
    "        IBMQ.save_account(token, overwrite=True) #save account for future use\n",
    "        IBMQ.load_account() #load account using stored credentials\n",
    "        provider = IBMQ.get_provider(hub='ibm-q') #public IBM Quantum devices available to all IBM Quantum users\n",
    "    else: \n",
    "        provider = qiskit.BasicAer #Python based simulator that doesn't need IBMQ Account for access"
   ]
  },
  {
   "cell_type": "code",
   "execution_count": 6,
   "id": "0a027cd5-f925-4690-a9ca-82d35b3bb759",
   "metadata": {},
   "outputs": [],
   "source": [
    "def set_backend(b = 'qasm_simulator'):\n",
    "    global _backend\n",
    "    global provider\n",
    "    _backend = provider.get_backend(b) #Choose quantum device to run on\n",
    "    _set_circuit(_backend.configuration().n_qubits) #Develop our circuit, knowing the size of the quantum device"
   ]
  },
  {
   "cell_type": "code",
   "execution_count": 7,
   "id": "8d0126f9-8d81-4faf-8525-ac922de74e26",
   "metadata": {},
   "outputs": [],
   "source": [
    "def _set_circuit(n):\n",
    "    global _circuit\n",
    "    qr = qiskit.QuantumRegister(n) #Implement a quantum register of n qubits\n",
    "    cr = qiskit.ClassicalRegister(n) #Implement a classical register of n cbits\n",
    "    _circuit = qiskit.QuantumCircuit(qr, cr) #Include the quantum register and the classical register in the circuit\n",
    "    # n = 2\n",
    "    # |0> ---------\n",
    "    # |0> ---------\n",
    "    # ============= \n",
    "    # =============\n",
    "    _circuit.h(qr) # Apply Hadamard gate to all the qubits in the quantum register\n",
    "    # n = 2\n",
    "    # |0> --H------\n",
    "    # |0> --H------\n",
    "    # =============\n",
    "    # =============\n",
    "    _circuit.measure(qr,cr) # Measure all the qubits in the quantum register and store them in the classical register\n",
    "    # n = 2\n",
    "    # |0> --H--M---\n",
    "    # |0> --H-----M\n",
    "    # =============    <--- classical register now stores the measurement result of each qubit\n",
    "    # ============="
   ]
  },
  {
   "cell_type": "code",
   "execution_count": 8,
   "id": "01f49f0d-9a49-4704-8f6c-6a4ac3c47930",
   "metadata": {},
   "outputs": [],
   "source": [
    "def _get_bits_from_counts(counts):\n",
    "    for k, v in counts.items():\n",
    "        if v == 1:\n",
    "            return k\n",
    "    #return [k for k, v in counts.items() if v == 1]"
   ]
  },
  {
   "cell_type": "code",
   "execution_count": 9,
   "id": "b97c4cbc-5d35-4e98-a4d4-38e4c464bbb7",
   "metadata": {},
   "outputs": [],
   "source": [
    "def _request_bits(n):\n",
    "    global _bitCache #our primary data type for feeding and taking purely random bits\n",
    "    #\n",
    "    # suppose n=5 and the number of qubits is 8. We can generate 0, 5, 10, 15 ... random bits. \n",
    "    # That is, 0, 1, 2, 3 ... jobs. We want 10 random bits  <--> 2 jobs.\n",
    "    # 8/5 = 1 but ceil(8/5) = 2. Generally, we want to use the ceiling operation for this task.\n",
    "    #\n",
    "    iterations = math.ceil(n * 2/_circuit.width()) #the width of the quantum register is half that of the circuit\n",
    "    for _ in range(iterations):\n",
    "        # Create new job and run the quantum circuit\n",
    "        job = qiskit.execute(_circuit, _backend, shots=1) #submit circuit to backend once\n",
    "        #\n",
    "        # counts is a dictionary where the key is a binary string and the value is the count\n",
    "        #\n",
    "        _bitCache += _get_bits_from_counts(job.result().get_counts()) #convert the job to circuit.width()/2 new bits in the bitCache"
   ]
  },
  {
   "cell_type": "code",
   "execution_count": 10,
   "id": "b931640c-06cd-4e01-871b-d4b21295b3b8",
   "metadata": {},
   "outputs": [],
   "source": [
    "def get_bit_string(n):\n",
    "    global _bitCache\n",
    "    if len(_bitCache) < n:\n",
    "        _request_bits(n-len(_bitCache)) #request as many bits as we are lacking\n",
    "    bitString = _bitCache[0:n] #result is the first n bits of the bitCache\n",
    "    _bitCache = _bitCache[n:] #delete the first n bits of the bitCache\n",
    "    return bitString"
   ]
  },
  {
   "cell_type": "code",
   "execution_count": 11,
   "id": "174f696a-d804-4c2a-9a05-9fe9b5381b26",
   "metadata": {},
   "outputs": [],
   "source": [
    "#get a random int between 0 and 2^16 - 1\n",
    "def get_random_int16():\n",
    "    return int(get_bit_string(16),2) #convert base 2 number to int"
   ]
  },
  {
   "cell_type": "code",
   "execution_count": 13,
   "id": "c183416b-b17d-4e30-a876-21c00de333fe",
   "metadata": {},
   "outputs": [
    {
     "data": {
      "text/plain": [
       "52728"
      ]
     },
     "execution_count": 13,
     "metadata": {},
     "output_type": "execute_result"
    }
   ],
   "source": [
    "set_provider()\n",
    "set_backend()\n",
    "get_random_int16() "
   ]
  },
  {
   "cell_type": "code",
   "execution_count": null,
   "id": "11c87ed9-f7e6-41c6-bb8d-c2a54b664f80",
   "metadata": {},
   "outputs": [],
   "source": [
    "set_provider('your token here')\n",
    "set_backend(b = 'ibmq_manila')\n",
    "get_random_int16() "
   ]
  },
  {
   "cell_type": "code",
   "execution_count": 24,
   "id": "a25fd200-082f-43a5-83c3-d0c53cdb6fd2",
   "metadata": {},
   "outputs": [
    {
     "data": {
      "text/plain": [
       "[<AccountProvider for IBMQ(hub='ibm-q', group='open', project='main')>]"
      ]
     },
     "execution_count": 24,
     "metadata": {},
     "output_type": "execute_result"
    }
   ],
   "source": [
    "#View providers with your IBMQ account\n",
    "IBMQ.load_account()\n",
    "IBMQ.providers()"
   ]
  },
  {
   "cell_type": "code",
   "execution_count": 22,
   "id": "1ee5d60a-4ff5-451a-b731-84467dabf648",
   "metadata": {},
   "outputs": [
    {
     "data": {
      "text/plain": [
       "[<IBMQSimulator('ibmq_qasm_simulator') from IBMQ(hub='ibm-q', group='open', project='main')>,\n",
       " <IBMQBackend('ibmq_armonk') from IBMQ(hub='ibm-q', group='open', project='main')>,\n",
       " <IBMQBackend('ibmq_santiago') from IBMQ(hub='ibm-q', group='open', project='main')>,\n",
       " <IBMQBackend('ibmq_bogota') from IBMQ(hub='ibm-q', group='open', project='main')>,\n",
       " <IBMQBackend('ibmq_lima') from IBMQ(hub='ibm-q', group='open', project='main')>,\n",
       " <IBMQBackend('ibmq_belem') from IBMQ(hub='ibm-q', group='open', project='main')>,\n",
       " <IBMQBackend('ibmq_quito') from IBMQ(hub='ibm-q', group='open', project='main')>,\n",
       " <IBMQSimulator('simulator_statevector') from IBMQ(hub='ibm-q', group='open', project='main')>,\n",
       " <IBMQSimulator('simulator_mps') from IBMQ(hub='ibm-q', group='open', project='main')>,\n",
       " <IBMQSimulator('simulator_extended_stabilizer') from IBMQ(hub='ibm-q', group='open', project='main')>,\n",
       " <IBMQSimulator('simulator_stabilizer') from IBMQ(hub='ibm-q', group='open', project='main')>,\n",
       " <IBMQBackend('ibmq_manila') from IBMQ(hub='ibm-q', group='open', project='main')>]"
      ]
     },
     "execution_count": 22,
     "metadata": {},
     "output_type": "execute_result"
    }
   ],
   "source": [
    "#View backends with the current provider\n",
    "set_provider('[your token here]')\n",
    "provider.backends()"
   ]
  }
 ],
 "metadata": {
  "kernelspec": {
   "display_name": "Qiskit v0.32.1 (ipykernel)",
   "language": "python",
   "name": "python3"
  },
  "language_info": {
   "codemirror_mode": {
    "name": "ipython",
    "version": 3
   },
   "file_extension": ".py",
   "mimetype": "text/x-python",
   "name": "python",
   "nbconvert_exporter": "python",
   "pygments_lexer": "ipython3",
   "version": "3.8.9"
  },
  "widgets": {
   "application/vnd.jupyter.widget-state+json": {
    "state": {},
    "version_major": 2,
    "version_minor": 0
   }
  }
 },
 "nbformat": 4,
 "nbformat_minor": 5
}
