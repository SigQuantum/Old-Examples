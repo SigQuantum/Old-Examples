{
 "cells": [
  {
   "cell_type": "code",
   "execution_count": 1,
   "id": "67f2db4c-1867-43f9-bbed-5a2f0371f072",
   "metadata": {},
   "outputs": [
    {
     "name": "stdout",
     "output_type": "stream",
     "text": [
      "     ┌───┐             \n",
      "q_0: ┤ X ├──■────■─────\n",
      "     ├───┤  │  ┌─┴─┐┌─┐\n",
      "q_1: ┤ X ├──■──┤ X ├┤M├\n",
      "     └───┘┌─┴─┐└┬─┬┘└╥┘\n",
      "q_2: ─|0>─┤ X ├─┤M├──╫─\n",
      "          └───┘ └╥┘  ║ \n",
      "c: 2/════════════╩═══╩═\n",
      "                 1   0 \n"
     ]
    }
   ],
   "source": [
    "from qiskit import QuantumRegister, ClassicalRegister, QuantumCircuit\n",
    "\n",
    "qreg_q = QuantumRegister(3, 'q')\n",
    "creg_c = ClassicalRegister(2, 'c')\n",
    "circuit = QuantumCircuit(qreg_q, creg_c)\n",
    "\n",
    "# Half adder implemented for qubits\n",
    "# Writes over an input state to reduce the total number of qubits\n",
    "\n",
    "# set input states (|0> or |1>)\n",
    "circuit.x(qreg_q[0]) \n",
    "circuit.x(qreg_q[1]) \n",
    "\n",
    "circuit.reset(qreg_q[2])\n",
    "\n",
    "# calculate most significant bit\n",
    "circuit.ccx(qreg_q[0], qreg_q[1], qreg_q[2])\n",
    "\n",
    "# calculate least significant bit\n",
    "circuit.cx(qreg_q[0], qreg_q[1])\n",
    "\n",
    "circuit.measure(qreg_q[1], creg_c[0])\n",
    "circuit.measure(qreg_q[2], creg_c[1])\n",
    "\n",
    "print(circuit)"
   ]
  },
  {
   "cell_type": "code",
   "execution_count": 2,
   "id": "2c1ee9e5-c16f-4be3-ac2a-d1db97f7a716",
   "metadata": {},
   "outputs": [],
   "source": [
    "from qiskit import BasicAer\n",
    "\n",
    "backend = BasicAer.get_backend('qasm_simulator') # the device to run on"
   ]
  },
  {
   "cell_type": "code",
   "execution_count": 3,
   "id": "458e2859-1b8b-4dcb-9bfe-d0ec14a18087",
   "metadata": {},
   "outputs": [
    {
     "name": "stdout",
     "output_type": "stream",
     "text": [
      "{'10': 1000}\n"
     ]
    }
   ],
   "source": [
    "from qiskit import transpile\n",
    "\n",
    "# execute the quantum circuit\n",
    "result = backend.run(transpile(circuit, backend), shots=1000).result()\n",
    "counts  = result.get_counts(circuit)\n",
    "print(counts)"
   ]
  },
  {
   "cell_type": "code",
   "execution_count": 4,
   "id": "e92496d5-ffac-4a3f-a175-9407c83bf339",
   "metadata": {},
   "outputs": [
    {
     "data": {
      "image/png": "[encoded data removed]",
      "text/plain": [
       "<Figure size 504x360 with 1 Axes>"
      ]
     },
     "execution_count": 4,
     "metadata": {},
     "output_type": "execute_result"
    }
   ],
   "source": [
    "from qiskit.visualization import plot_histogram\n",
    "\n",
    "plot_histogram(counts)"
   ]
  }
 ],
 "metadata": {
  "kernelspec": {
   "display_name": "Qiskit v0.29.0",
   "language": "python",
   "name": "python3"
  },
  "language_info": {
   "codemirror_mode": {
    "name": "ipython",
    "version": 3
   },
   "file_extension": ".py",
   "mimetype": "text/x-python",
   "name": "python",
   "nbconvert_exporter": "python",
   "pygments_lexer": "ipython3",
   "version": "3.8.10"
  },
  "widgets": {
   "application/vnd.jupyter.widget-state+json": {
    "state": {},
    "version_major": 2,
    "version_minor": 0
   }
  }
 },
 "nbformat": 4,
 "nbformat_minor": 5
}
