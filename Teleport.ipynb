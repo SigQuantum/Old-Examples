{
 "cells": [
  {
   "cell_type": "code",
   "execution_count": 22,
   "id": "b9942921-47c8-472b-baad-7d44322bb339",
   "metadata": {},
   "outputs": [
    {
     "name": "stdout",
     "output_type": "stream",
     "text": [
      "          ┌───┐┌───┐ ░      ┌───┐┌─┐                 \n",
      "q_0: ─|0>─┤ T ├┤ H ├─░───■──┤ H ├┤M├─────────────────\n",
      "          ├───┤└───┘ ░ ┌─┴─┐└───┘└╥┘       ┌─┐       \n",
      "q_1: ─|0>─┤ H ├──■───░─┤ X ├──────╫────────┤M├───────\n",
      "          └───┘┌─┴─┐ ░ └───┘      ║  ┌───┐ └╥┘ ┌───┐ \n",
      "q_2: ─|0>──────┤ X ├─░────────────╫──┤ Z ├──╫──┤ X ├─\n",
      "               └───┘ ░            ║  └─╥─┘  ║  └─╥─┘ \n",
      "                                  ║ ┌──╨──┐ ║ ┌──╨──┐\n",
      "c: 3/═════════════════════════════╩═╡ = 1 ╞═╩═╡ = 1 ╞\n",
      "                                  0 └─────┘ 1 └─────┘\n"
     ]
    }
   ],
   "source": [
    "from qiskit import QuantumRegister, ClassicalRegister, QuantumCircuit\n",
    "from numpy import pi\n",
    "\n",
    "qreg_q = QuantumRegister(3, 'q')\n",
    "creg_c = ClassicalRegister(3, 'c')\n",
    "circuit = QuantumCircuit(qreg_q, creg_c)\n",
    "\n",
    "circuit.reset(qreg_q[0])\n",
    "circuit.reset(qreg_q[1])\n",
    "circuit.reset(qreg_q[2])\n",
    "\n",
    "circuit.t(qreg_q[0])\n",
    "circuit.h(qreg_q[0])\n",
    "circuit.h(qreg_q[1])\n",
    "circuit.barrier(qreg_q[0])\n",
    "circuit.cx(qreg_q[1], qreg_q[2])\n",
    "circuit.barrier(qreg_q[1])\n",
    "circuit.barrier(qreg_q[2])\n",
    "circuit.cx(qreg_q[0], qreg_q[1])\n",
    "circuit.h(qreg_q[0])\n",
    "circuit.measure(qreg_q[0], creg_c[0])\n",
    "circuit.z(qreg_q[2]).c_if(creg_c, 1)\n",
    "circuit.measure(qreg_q[1], creg_c[1])\n",
    "circuit.x(qreg_q[2]).c_if(creg_c, 1)\n",
    "\n",
    "print(circuit)"
   ]
  },
  {
   "cell_type": "code",
   "execution_count": 23,
   "id": "85774a74-1f67-4904-9aae-98237b7f559c",
   "metadata": {
    "tags": []
   },
   "outputs": [],
   "source": [
    "backend = BasicAer.get_backend('qasm_simulator') # the device to run on"
   ]
  },
  {
   "cell_type": "code",
   "execution_count": 24,
   "id": "81b46b24-de5c-405f-b2e2-6e80835b1d35",
   "metadata": {},
   "outputs": [
    {
     "name": "stdout",
     "output_type": "stream",
     "text": [
      "{'010': 252, '001': 256, '000': 247, '011': 245}\n"
     ]
    }
   ],
   "source": [
    "circ = circuit\n",
    "result = backend.run(transpile(circ, backend), shots=1000).result()\n",
    "counts  = result.get_counts(circ)\n",
    "print(counts)"
   ]
  },
  {
   "cell_type": "code",
   "execution_count": 25,
   "id": "f17b2d1d-42c4-4d52-bc23-817d9a36b7d2",
   "metadata": {},
   "outputs": [
    {
     "data": {
      "image/png": "[encoded data removed]",
      "text/plain": [
       "<Figure size 504x360 with 1 Axes>"
      ]
     },
     "execution_count": 25,
     "metadata": {},
     "output_type": "execute_result"
    }
   ],
   "source": [
    "plot_histogram(counts)"
   ]
  }
 ],
 "metadata": {
  "kernelspec": {
   "display_name": "Qiskit v0.29.0",
   "language": "python",
   "name": "python3"
  },
  "language_info": {
   "codemirror_mode": {
    "name": "ipython",
    "version": 3
   },
   "file_extension": ".py",
   "mimetype": "text/x-python",
   "name": "python",
   "nbconvert_exporter": "python",
   "pygments_lexer": "ipython3",
   "version": "3.8.10"
  },
  "widgets": {
   "application/vnd.jupyter.widget-state+json": {
    "state": {
     "1544809c02a8451ebcf05d053de5a0bb": {
      "model_module": "@jupyter-widgets/controls",
      "model_module_version": "1.5.0",
      "model_name": "HTMLModel",
      "state": {
       "layout": "IPY_MODEL_514893984d6644fda8c0284f07dadc74",
       "style": "IPY_MODEL_7d50faffcf2f4e50bc153407b4d84860",
       "value": "<h5>Job ID</h5>"
      }
     },
     "34bfd5b1e4cc48deb5417c107e1c6a74": {
      "model_module": "@jupyter-widgets/base",
      "model_module_version": "1.2.0",
      "model_name": "LayoutModel",
      "state": {}
     },
     "3fe9c6c024694417b27d990f5ffa81a2": {
      "model_module": "@jupyter-widgets/base",
      "model_module_version": "1.2.0",
      "model_name": "LayoutModel",
      "state": {
       "grid_template_areas": "\n                                       \". . . . right \"\n                                        ",
       "grid_template_columns": "20% 20% 20% 20% 20%",
       "width": "100%"
      }
     },
     "4967f322fd9a463a8b67afc55ce28b44": {
      "model_module": "@jupyter-widgets/controls",
      "model_module_version": "1.5.0",
      "model_name": "DescriptionStyleModel",
      "state": {
       "description_width": ""
      }
     },
     "4c741910eac34fef81ddd3e1b4e04fc1": {
      "model_module": "@jupyter-widgets/controls",
      "model_module_version": "1.5.0",
      "model_name": "DescriptionStyleModel",
      "state": {
       "description_width": ""
      }
     },
     "514893984d6644fda8c0284f07dadc74": {
      "model_module": "@jupyter-widgets/base",
      "model_module_version": "1.2.0",
      "model_name": "LayoutModel",
      "state": {
       "width": "190px"
      }
     },
     "67e55681211a48e6a8fa27ede88ca587": {
      "model_module": "@jupyter-widgets/base",
      "model_module_version": "1.2.0",
      "model_name": "LayoutModel",
      "state": {
       "width": "145px"
      }
     },
     "6b5b235bb4284fbd9508cd0cce2a59d6": {
      "model_module": "@jupyter-widgets/controls",
      "model_module_version": "1.5.0",
      "model_name": "HTMLModel",
      "state": {
       "layout": "IPY_MODEL_67e55681211a48e6a8fa27ede88ca587",
       "style": "IPY_MODEL_a1d6480f22a94144a11aff5a499937e1",
       "value": "<h5>Backend</h5>"
      }
     },
     "7d50faffcf2f4e50bc153407b4d84860": {
      "model_module": "@jupyter-widgets/controls",
      "model_module_version": "1.5.0",
      "model_name": "DescriptionStyleModel",
      "state": {
       "description_width": ""
      }
     },
     "8c285fe111084b0dbf13f08053695d03": {
      "model_module": "@jupyter-widgets/controls",
      "model_module_version": "1.5.0",
      "model_name": "HBoxModel",
      "state": {
       "children": [
        "IPY_MODEL_1544809c02a8451ebcf05d053de5a0bb",
        "IPY_MODEL_6b5b235bb4284fbd9508cd0cce2a59d6",
        "IPY_MODEL_f855a52f85104b8eb1059fb80f1eb3f7",
        "IPY_MODEL_f19c1178d87a40c5a3dde5ef3ca54fe5",
        "IPY_MODEL_a6d3d2a471ba4e79b3286fe469072b92"
       ],
       "layout": "IPY_MODEL_e7831be7431b40a38bcc303ceeb69efe"
      }
     },
     "9dc824aed3bc4a9fbe51ba70e5f44ac7": {
      "model_module": "@jupyter-widgets/controls",
      "model_module_version": "1.5.0",
      "model_name": "DescriptionStyleModel",
      "state": {
       "description_width": ""
      }
     },
     "a1d6480f22a94144a11aff5a499937e1": {
      "model_module": "@jupyter-widgets/controls",
      "model_module_version": "1.5.0",
      "model_name": "DescriptionStyleModel",
      "state": {
       "description_width": ""
      }
     },
     "a6d09540cb9748bd8be1b58eadf87ad7": {
      "model_module": "@jupyter-widgets/controls",
      "model_module_version": "1.5.0",
      "model_name": "GridBoxModel",
      "state": {
       "children": [
        "IPY_MODEL_b95cbb67abfc4cf6aa6bed6138052fc2"
       ],
       "layout": "IPY_MODEL_3fe9c6c024694417b27d990f5ffa81a2"
      }
     },
     "a6d3d2a471ba4e79b3286fe469072b92": {
      "model_module": "@jupyter-widgets/controls",
      "model_module_version": "1.5.0",
      "model_name": "HTMLModel",
      "state": {
       "layout": "IPY_MODEL_34bfd5b1e4cc48deb5417c107e1c6a74",
       "style": "IPY_MODEL_4967f322fd9a463a8b67afc55ce28b44",
       "value": "<h5>Message</h5>"
      }
     },
     "b0a31a3796224ddc90b9d04bd446cc02": {
      "model_module": "@jupyter-widgets/base",
      "model_module_version": "1.2.0",
      "model_name": "LayoutModel",
      "state": {
       "margin": "0px 0px 10px 0px"
      }
     },
     "b279b758ef2a45e3889f8936f7545ee4": {
      "model_module": "@jupyter-widgets/controls",
      "model_module_version": "1.5.0",
      "model_name": "DescriptionStyleModel",
      "state": {
       "description_width": ""
      }
     },
     "b75828711dac43d0a7f37f63565a3a22": {
      "model_module": "@jupyter-widgets/controls",
      "model_module_version": "1.5.0",
      "model_name": "HTMLModel",
      "state": {
       "layout": "IPY_MODEL_b0a31a3796224ddc90b9d04bd446cc02",
       "style": "IPY_MODEL_b279b758ef2a45e3889f8936f7545ee4",
       "value": "<p style='font-family: IBM Plex Sans, Arial, Helvetica, sans-serif; font-size: 20px; font-weight: medium;'>Circuit Properties</p>"
      }
     },
     "b95cbb67abfc4cf6aa6bed6138052fc2": {
      "model_module": "@jupyter-widgets/controls",
      "model_module_version": "1.5.0",
      "model_name": "ButtonModel",
      "state": {
       "button_style": "primary",
       "description": "Clear",
       "layout": "IPY_MODEL_d3e1500eb0f54c8e8087ea34a45e4709",
       "style": "IPY_MODEL_f7c625c751d0401db66dbb4066034c8c"
      }
     },
     "ce939807a624464bad48f3661e0d711e": {
      "model_module": "@jupyter-widgets/base",
      "model_module_version": "1.2.0",
      "model_name": "LayoutModel",
      "state": {
       "width": "95px"
      }
     },
     "d3e1500eb0f54c8e8087ea34a45e4709": {
      "model_module": "@jupyter-widgets/base",
      "model_module_version": "1.2.0",
      "model_name": "LayoutModel",
      "state": {
       "grid_area": "right",
       "padding": "0px 0px 0px 0px",
       "width": "70px"
      }
     },
     "e757612aafa64f5f85d105b7932d3cbd": {
      "model_module": "@jupyter-widgets/base",
      "model_module_version": "1.2.0",
      "model_name": "LayoutModel",
      "state": {
       "width": "70px"
      }
     },
     "e7831be7431b40a38bcc303ceeb69efe": {
      "model_module": "@jupyter-widgets/base",
      "model_module_version": "1.2.0",
      "model_name": "LayoutModel",
      "state": {
       "margin": "0px 0px 0px 37px",
       "width": "600px"
      }
     },
     "f19c1178d87a40c5a3dde5ef3ca54fe5": {
      "model_module": "@jupyter-widgets/controls",
      "model_module_version": "1.5.0",
      "model_name": "HTMLModel",
      "state": {
       "layout": "IPY_MODEL_e757612aafa64f5f85d105b7932d3cbd",
       "style": "IPY_MODEL_9dc824aed3bc4a9fbe51ba70e5f44ac7",
       "value": "<h5>Queue</h5>"
      }
     },
     "f7c625c751d0401db66dbb4066034c8c": {
      "model_module": "@jupyter-widgets/controls",
      "model_module_version": "1.5.0",
      "model_name": "ButtonStyleModel",
      "state": {}
     },
     "f855a52f85104b8eb1059fb80f1eb3f7": {
      "model_module": "@jupyter-widgets/controls",
      "model_module_version": "1.5.0",
      "model_name": "HTMLModel",
      "state": {
       "layout": "IPY_MODEL_ce939807a624464bad48f3661e0d711e",
       "style": "IPY_MODEL_4c741910eac34fef81ddd3e1b4e04fc1",
       "value": "<h5>Status</h5>"
      }
     }
    },
    "version_major": 2,
    "version_minor": 0
   }
  }
 },
 "nbformat": 4,
 "nbformat_minor": 5
}
