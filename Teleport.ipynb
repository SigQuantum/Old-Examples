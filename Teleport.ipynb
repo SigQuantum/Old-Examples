{
 "cells": [
  {
   "cell_type": "code",
   "execution_count": 1,
   "id": "b9942921-47c8-472b-baad-7d44322bb339",
   "metadata": {},
   "outputs": [
    {
     "name": "stdout",
     "output_type": "stream",
     "text": [
      "          ┌───┐┌───┐ ░      ┌───┐┌─┐              \n",
      "q_0: ─|0>─┤ T ├┤ H ├─░───■──┤ H ├┤M├──────────────\n",
      "          ├───┤└───┘ ░ ┌─┴─┐└┬─┬┘└╥┘              \n",
      "q_1: ─|0>─┤ H ├──■───░─┤ X ├─┤M├──╫───────────────\n",
      "          └───┘┌─┴─┐ ░ └───┘ └╥┘  ║  ┌───┐  ┌───┐ \n",
      "q_2: ─|0>──────┤ X ├─░────────╫───╫──┤ Z ├──┤ X ├─\n",
      "               └───┘ ░        ║   ║  └─╥─┘  └─╥─┘ \n",
      "                              ║   ║ ┌──╨──┐┌──╨──┐\n",
      "c: 2/═════════════════════════╩═══╩═╡ = 1 ╞╡ = 1 ╞\n",
      "                              1   0 └─────┘└─────┘\n"
     ]
    }
   ],
   "source": [
    "from qiskit import QuantumRegister, ClassicalRegister, QuantumCircuit\n",
    "\n",
    "qreg_q = QuantumRegister(3, 'q')\n",
    "creg_c = ClassicalRegister(2, 'c')\n",
    "circuit = QuantumCircuit(qreg_q, creg_c)\n",
    "\n",
    "circuit.reset(qreg_q[0])\n",
    "circuit.reset(qreg_q[1])\n",
    "circuit.reset(qreg_q[2])\n",
    "\n",
    "# Alice sends Bob a qubit state \n",
    "# Uses entanglement\n",
    "# Uses local operations and classical communication\n",
    "\n",
    "# intialize the qubit to teleport\n",
    "circuit.t(qreg_q[0])\n",
    "circuit.h(qreg_q[0])\n",
    "\n",
    "# distribute an entangled pair\n",
    "circuit.h(qreg_q[1])\n",
    "circuit.cx(qreg_q[1], qreg_q[2])\n",
    "\n",
    "circuit.barrier(qreg_q[0])  \n",
    "circuit.barrier(qreg_q[1])\n",
    "circuit.barrier(qreg_q[2])\n",
    "\n",
    "# process Alice's qubits\n",
    "circuit.cx(qreg_q[0], qreg_q[1])\n",
    "circuit.h(qreg_q[0])\n",
    "\n",
    "# measure Alice's qubits and send results to Bob\n",
    "circuit.measure(qreg_q[0], creg_c[0]) \n",
    "circuit.measure(qreg_q[1], creg_c[1])\n",
    "\n",
    "# process Bob's qubit until Bob has Alice's original qubit state\n",
    "circuit.z(qreg_q[2]).c_if(creg_c, 1)\n",
    "circuit.x(qreg_q[2]).c_if(creg_c, 1)\n",
    "\n",
    "print(circuit)"
   ]
  },
  {
   "cell_type": "code",
   "execution_count": 2,
   "id": "85774a74-1f67-4904-9aae-98237b7f559c",
   "metadata": {
    "tags": []
   },
   "outputs": [],
   "source": [
    "from qiskit import BasicAer\n",
    "\n",
    "backend = BasicAer.get_backend('qasm_simulator') # the device to run on"
   ]
  },
  {
   "cell_type": "code",
   "execution_count": 3,
   "id": "81b46b24-de5c-405f-b2e2-6e80835b1d35",
   "metadata": {},
   "outputs": [
    {
     "name": "stdout",
     "output_type": "stream",
     "text": [
      "{'00': 2549, '01': 2537, '10': 2512, '11': 2402}\n"
     ]
    }
   ],
   "source": [
    "from qiskit import transpile\n",
    "\n",
    "# execute the quantum circuit\n",
    "result = backend.run(transpile(circuit, backend), shots=10000).result()\n",
    "counts  = result.get_counts(circuit)\n",
    "print(counts)"
   ]
  },
  {
   "cell_type": "code",
   "execution_count": 4,
   "id": "f17b2d1d-42c4-4d52-bc23-817d9a36b7d2",
   "metadata": {},
   "outputs": [
    {
     "data": {
      "image/png": "[encoded data removed]",
      "text/plain": [
       "<Figure size 504x360 with 1 Axes>"
      ]
     },
     "execution_count": 4,
     "metadata": {},
     "output_type": "execute_result"
    }
   ],
   "source": [
    "from qiskit.visualization import plot_histogram\n",
    "\n",
    "plot_histogram(counts)"
   ]
  }
 ],
 "metadata": {
  "kernelspec": {
   "display_name": "Qiskit v0.29.0",
   "language": "python",
   "name": "python3"
  },
  "language_info": {
   "codemirror_mode": {
    "name": "ipython",
    "version": 3
   },
   "file_extension": ".py",
   "mimetype": "text/x-python",
   "name": "python",
   "nbconvert_exporter": "python",
   "pygments_lexer": "ipython3",
   "version": "3.8.10"
  },
  "widgets": {
   "application/vnd.jupyter.widget-state+json": {
    "state": {},
    "version_major": 2,
    "version_minor": 0
   }
  }
 },
 "nbformat": 4,
 "nbformat_minor": 5
}
